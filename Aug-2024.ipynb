{
 "cells": [
  {
   "cell_type": "code",
   "execution_count": 1,
   "metadata": {},
   "outputs": [],
   "source": [
    "import numpy as np\n",
    "import matplotlib.pyplot as plt\n",
    "from tqdm import tqdm\n"
   ]
  },
  {
   "cell_type": "code",
   "execution_count": 2,
   "metadata": {},
   "outputs": [],
   "source": [
    "class Node:\n",
    "    value = None\n",
    "    left, right = None, None\n",
    "\n",
    "    def __init__(self, value, left, right):\n",
    "        self.value = value\n",
    "        self.left = left\n",
    "        self.right = right\n",
    "    \n",
    "    def __str__(self):\n",
    "        string = f\"{self.value}\"\n",
    "        if self.left is not None and self.right is not None:\n",
    "            string += f\" -> ({self.left.__str__()}, {self.right.__str__()})\"\n",
    "        return string"
   ]
  },
  {
   "cell_type": "code",
   "execution_count": 3,
   "metadata": {},
   "outputs": [],
   "source": [
    "def _build_tree(probability, height):\n",
    "    left, right = None, None\n",
    "    if height > 0:\n",
    "        left = _build_tree(probability, height - 1)\n",
    "        right = _build_tree(probability, height - 1)\n",
    "    \n",
    "    value = np.random.binomial(n=1, p=probability)\n",
    "\n",
    "    return Node(value, left, right)"
   ]
  },
  {
   "cell_type": "code",
   "execution_count": 4,
   "metadata": {},
   "outputs": [],
   "source": [
    "def build_tree(probability, height):\n",
    "    tree = _build_tree(probability, height)\n",
    "    tree.value = 1\n",
    "    return tree"
   ]
  },
  {
   "cell_type": "code",
   "execution_count": 5,
   "metadata": {},
   "outputs": [],
   "source": [
    "def can_aaron_win(tree, isEvenDepth):\n",
    "    if tree is None:\n",
    "        return True\n",
    "    \n",
    "    if tree.value == 0:\n",
    "        return False\n",
    "    \n",
    "    canWinLeft = can_aaron_win(tree.left, not isEvenDepth)\n",
    "    canWinRight = can_aaron_win(tree.right, not isEvenDepth)\n",
    "\n",
    "    if isEvenDepth:\n",
    "        return canWinLeft or canWinRight\n",
    "    else:\n",
    "        return canWinLeft and canWinRight"
   ]
  },
  {
   "cell_type": "code",
   "execution_count": 6,
   "metadata": {},
   "outputs": [],
   "source": [
    "def improved_can_aaron_win(currentDepth, maxDepth, probability):\n",
    "    if currentDepth > maxDepth:\n",
    "        return True\n",
    "    \n",
    "    if currentDepth == 0:\n",
    "        return improved_can_aaron_win(currentDepth + 1, maxDepth, probability) or improved_can_aaron_win(currentDepth + 1, maxDepth, probability)\n",
    "    \n",
    "    flip = np.random.binomial(n=1, p=probability)\n",
    "    if flip == 0:\n",
    "        return False\n",
    "    \n",
    "    child_left = improved_can_aaron_win(currentDepth + 1, maxDepth, probability)\n",
    "    child_right = improved_can_aaron_win(currentDepth + 1, maxDepth, probability)\n",
    "\n",
    "    if currentDepth % 2 == 0:\n",
    "        return child_left or child_right\n",
    "    else:\n",
    "        return child_left and child_right"
   ]
  },
  {
   "cell_type": "code",
   "execution_count": 7,
   "metadata": {},
   "outputs": [],
   "source": [
    "def build_and_evaluate_instance(probability, height):\n",
    "    tree = build_tree(probability, height)\n",
    "    return can_aaron_win(tree, isEvenDepth=True)"
   ]
  },
  {
   "cell_type": "code",
   "execution_count": 8,
   "metadata": {},
   "outputs": [],
   "source": [
    "def sample(probability, height, samples):\n",
    "    samples = [improved_can_aaron_win(0, height, probability) for _ in range(samples)]\n",
    "    probability_aaron_wins = np.average(samples)\n",
    "    return probability_aaron_wins"
   ]
  },
  {
   "cell_type": "code",
   "execution_count": 9,
   "metadata": {},
   "outputs": [
    {
     "name": "stdout",
     "output_type": "stream",
     "text": [
      "Expected time it will take to complete 1633.34s\n"
     ]
    },
    {
     "name": "stderr",
     "output_type": "stream",
     "text": [
      "  0%|          | 0/50 [00:00<?, ?it/s]"
     ]
    },
    {
     "name": "stderr",
     "output_type": "stream",
     "text": [
      "100%|██████████| 100/100 [00:00<00:00, 11240.56it/s]\n",
      "100%|██████████| 100/100 [00:00<00:00, 33452.74it/s]\n",
      "100%|██████████| 100/100 [00:00<00:00, 21983.88it/s]\n",
      "100%|██████████| 100/100 [00:00<00:00, 17358.37it/s]\n",
      "100%|██████████| 100/100 [00:00<00:00, 20635.17it/s]\n",
      "100%|██████████| 100/100 [00:00<00:00, 12090.47it/s]\n",
      "100%|██████████| 100/100 [00:00<00:00, 10412.09it/s]\n",
      "100%|██████████| 100/100 [00:00<00:00, 8205.94it/s]\n",
      "100%|██████████| 100/100 [00:00<00:00, 8265.78it/s]\n",
      "100%|██████████| 100/100 [00:00<00:00, 5625.94it/s]\n",
      "100%|██████████| 100/100 [00:00<00:00, 4033.22it/s]\n",
      "100%|██████████| 100/100 [00:00<00:00, 3944.35it/s]\n",
      "100%|██████████| 100/100 [00:00<00:00, 4491.89it/s]\n",
      "100%|██████████| 100/100 [00:00<00:00, 1906.00it/s]\n",
      "100%|██████████| 100/100 [00:00<00:00, 2006.70it/s]\n",
      "100%|██████████| 100/100 [00:00<00:00, 1528.70it/s]\n",
      "100%|██████████| 100/100 [00:00<00:00, 1194.99it/s]\n",
      "100%|██████████| 100/100 [00:00<00:00, 1027.01it/s]\n",
      "100%|██████████| 100/100 [00:00<00:00, 740.57it/s]\n",
      "100%|██████████| 100/100 [00:00<00:00, 707.44it/s]\n",
      "100%|██████████| 100/100 [00:00<00:00, 575.13it/s]\n",
      "100%|██████████| 100/100 [00:00<00:00, 454.71it/s]\n",
      "100%|██████████| 100/100 [00:00<00:00, 344.51it/s]\n",
      "100%|██████████| 100/100 [00:00<00:00, 285.33it/s]\n",
      "100%|██████████| 100/100 [00:00<00:00, 228.49it/s]\n",
      "100%|██████████| 100/100 [00:00<00:00, 176.10it/s]\n",
      "100%|██████████| 100/100 [00:00<00:00, 149.26it/s]\n",
      "100%|██████████| 100/100 [00:00<00:00, 123.18it/s]\n",
      "100%|██████████| 100/100 [00:00<00:00, 101.66it/s]\n",
      "100%|██████████| 100/100 [00:01<00:00, 70.86it/s]\n",
      "100%|██████████| 100/100 [00:01<00:00, 64.96it/s]\n",
      " 36%|███▌      | 36/100 [00:00<00:01, 45.05it/s]\n",
      " 62%|██████▏   | 31/50 [00:09<00:05,  3.40it/s]\n"
     ]
    },
    {
     "ename": "KeyboardInterrupt",
     "evalue": "",
     "output_type": "error",
     "traceback": [
      "\u001b[0;31m---------------------------------------------------------------------------\u001b[0m",
      "\u001b[0;31mKeyboardInterrupt\u001b[0m                         Traceback (most recent call last)",
      "Cell \u001b[0;32mIn[9], line 9\u001b[0m\n\u001b[1;32m      7\u001b[0m expected_time \u001b[38;5;241m=\u001b[39m samples \u001b[38;5;241m*\u001b[39m (\u001b[38;5;241m2\u001b[39m \u001b[38;5;241m*\u001b[39m\u001b[38;5;241m*\u001b[39m height) \u001b[38;5;241m*\u001b[39m \u001b[38;5;28mlen\u001b[39m(probabilities) \u001b[38;5;241m/\u001b[39m \u001b[38;5;241m3209920\u001b[39m\n\u001b[1;32m      8\u001b[0m \u001b[38;5;28mprint\u001b[39m(\u001b[38;5;124mf\u001b[39m\u001b[38;5;124m\"\u001b[39m\u001b[38;5;124mExpected time it will take to complete \u001b[39m\u001b[38;5;132;01m{\u001b[39;00mexpected_time\u001b[38;5;132;01m:\u001b[39;00m\u001b[38;5;124m.2f\u001b[39m\u001b[38;5;132;01m}\u001b[39;00m\u001b[38;5;124ms\u001b[39m\u001b[38;5;124m\"\u001b[39m)\n\u001b[0;32m----> 9\u001b[0m sample_aaron_successes \u001b[38;5;241m=\u001b[39m [\u001b[43msample\u001b[49m\u001b[43m(\u001b[49m\u001b[43mprobability\u001b[49m\u001b[43m,\u001b[49m\u001b[43m \u001b[49m\u001b[43mheight\u001b[49m\u001b[43m,\u001b[49m\u001b[43m \u001b[49m\u001b[43msamples\u001b[49m\u001b[43m)\u001b[49m \u001b[38;5;28;01mfor\u001b[39;00m probability \u001b[38;5;129;01min\u001b[39;00m tqdm(probabilities)]\n",
      "Cell \u001b[0;32mIn[8], line 2\u001b[0m, in \u001b[0;36msample\u001b[0;34m(probability, height, samples)\u001b[0m\n\u001b[1;32m      1\u001b[0m \u001b[38;5;28;01mdef\u001b[39;00m \u001b[38;5;21msample\u001b[39m(probability, height, samples):\n\u001b[0;32m----> 2\u001b[0m     samples \u001b[38;5;241m=\u001b[39m [\u001b[43mimproved_can_aaron_win\u001b[49m\u001b[43m(\u001b[49m\u001b[38;5;241;43m0\u001b[39;49m\u001b[43m,\u001b[49m\u001b[43m \u001b[49m\u001b[43mheight\u001b[49m\u001b[43m,\u001b[49m\u001b[43m \u001b[49m\u001b[43mprobability\u001b[49m\u001b[43m)\u001b[49m \u001b[38;5;28;01mfor\u001b[39;00m _ \u001b[38;5;129;01min\u001b[39;00m tqdm(\u001b[38;5;28mrange\u001b[39m(samples))]\n\u001b[1;32m      3\u001b[0m     probability_aaron_wins \u001b[38;5;241m=\u001b[39m np\u001b[38;5;241m.\u001b[39maverage(samples)\n\u001b[1;32m      4\u001b[0m     \u001b[38;5;28;01mreturn\u001b[39;00m probability_aaron_wins\n",
      "Cell \u001b[0;32mIn[6], line 6\u001b[0m, in \u001b[0;36mimproved_can_aaron_win\u001b[0;34m(currentDepth, maxDepth, probability)\u001b[0m\n\u001b[1;32m      3\u001b[0m     \u001b[38;5;28;01mreturn\u001b[39;00m \u001b[38;5;28;01mTrue\u001b[39;00m\n\u001b[1;32m      5\u001b[0m \u001b[38;5;28;01mif\u001b[39;00m currentDepth \u001b[38;5;241m==\u001b[39m \u001b[38;5;241m0\u001b[39m:\n\u001b[0;32m----> 6\u001b[0m     \u001b[38;5;28;01mreturn\u001b[39;00m improved_can_aaron_win(currentDepth \u001b[38;5;241m+\u001b[39m \u001b[38;5;241m1\u001b[39m, maxDepth, probability) \u001b[38;5;129;01mor\u001b[39;00m \u001b[43mimproved_can_aaron_win\u001b[49m\u001b[43m(\u001b[49m\u001b[43mcurrentDepth\u001b[49m\u001b[43m \u001b[49m\u001b[38;5;241;43m+\u001b[39;49m\u001b[43m \u001b[49m\u001b[38;5;241;43m1\u001b[39;49m\u001b[43m,\u001b[49m\u001b[43m \u001b[49m\u001b[43mmaxDepth\u001b[49m\u001b[43m,\u001b[49m\u001b[43m \u001b[49m\u001b[43mprobability\u001b[49m\u001b[43m)\u001b[49m\n\u001b[1;32m      8\u001b[0m flip \u001b[38;5;241m=\u001b[39m np\u001b[38;5;241m.\u001b[39mrandom\u001b[38;5;241m.\u001b[39mbinomial(n\u001b[38;5;241m=\u001b[39m\u001b[38;5;241m1\u001b[39m, p\u001b[38;5;241m=\u001b[39mprobability)\n\u001b[1;32m      9\u001b[0m \u001b[38;5;28;01mif\u001b[39;00m flip \u001b[38;5;241m==\u001b[39m \u001b[38;5;241m0\u001b[39m:\n",
      "Cell \u001b[0;32mIn[6], line 13\u001b[0m, in \u001b[0;36mimproved_can_aaron_win\u001b[0;34m(currentDepth, maxDepth, probability)\u001b[0m\n\u001b[1;32m     10\u001b[0m     \u001b[38;5;28;01mreturn\u001b[39;00m \u001b[38;5;28;01mFalse\u001b[39;00m\n\u001b[1;32m     12\u001b[0m child_left \u001b[38;5;241m=\u001b[39m improved_can_aaron_win(currentDepth \u001b[38;5;241m+\u001b[39m \u001b[38;5;241m1\u001b[39m, maxDepth, probability)\n\u001b[0;32m---> 13\u001b[0m child_right \u001b[38;5;241m=\u001b[39m \u001b[43mimproved_can_aaron_win\u001b[49m\u001b[43m(\u001b[49m\u001b[43mcurrentDepth\u001b[49m\u001b[43m \u001b[49m\u001b[38;5;241;43m+\u001b[39;49m\u001b[43m \u001b[49m\u001b[38;5;241;43m1\u001b[39;49m\u001b[43m,\u001b[49m\u001b[43m \u001b[49m\u001b[43mmaxDepth\u001b[49m\u001b[43m,\u001b[49m\u001b[43m \u001b[49m\u001b[43mprobability\u001b[49m\u001b[43m)\u001b[49m\n\u001b[1;32m     15\u001b[0m \u001b[38;5;28;01mif\u001b[39;00m currentDepth \u001b[38;5;241m%\u001b[39m \u001b[38;5;241m2\u001b[39m \u001b[38;5;241m==\u001b[39m \u001b[38;5;241m0\u001b[39m:\n\u001b[1;32m     16\u001b[0m     \u001b[38;5;28;01mreturn\u001b[39;00m child_left \u001b[38;5;129;01mor\u001b[39;00m child_right\n",
      "Cell \u001b[0;32mIn[6], line 13\u001b[0m, in \u001b[0;36mimproved_can_aaron_win\u001b[0;34m(currentDepth, maxDepth, probability)\u001b[0m\n\u001b[1;32m     10\u001b[0m     \u001b[38;5;28;01mreturn\u001b[39;00m \u001b[38;5;28;01mFalse\u001b[39;00m\n\u001b[1;32m     12\u001b[0m child_left \u001b[38;5;241m=\u001b[39m improved_can_aaron_win(currentDepth \u001b[38;5;241m+\u001b[39m \u001b[38;5;241m1\u001b[39m, maxDepth, probability)\n\u001b[0;32m---> 13\u001b[0m child_right \u001b[38;5;241m=\u001b[39m \u001b[43mimproved_can_aaron_win\u001b[49m\u001b[43m(\u001b[49m\u001b[43mcurrentDepth\u001b[49m\u001b[43m \u001b[49m\u001b[38;5;241;43m+\u001b[39;49m\u001b[43m \u001b[49m\u001b[38;5;241;43m1\u001b[39;49m\u001b[43m,\u001b[49m\u001b[43m \u001b[49m\u001b[43mmaxDepth\u001b[49m\u001b[43m,\u001b[49m\u001b[43m \u001b[49m\u001b[43mprobability\u001b[49m\u001b[43m)\u001b[49m\n\u001b[1;32m     15\u001b[0m \u001b[38;5;28;01mif\u001b[39;00m currentDepth \u001b[38;5;241m%\u001b[39m \u001b[38;5;241m2\u001b[39m \u001b[38;5;241m==\u001b[39m \u001b[38;5;241m0\u001b[39m:\n\u001b[1;32m     16\u001b[0m     \u001b[38;5;28;01mreturn\u001b[39;00m child_left \u001b[38;5;129;01mor\u001b[39;00m child_right\n",
      "    \u001b[0;31m[... skipping similar frames: improved_can_aaron_win at line 13 (3 times)]\u001b[0m\n",
      "Cell \u001b[0;32mIn[6], line 12\u001b[0m, in \u001b[0;36mimproved_can_aaron_win\u001b[0;34m(currentDepth, maxDepth, probability)\u001b[0m\n\u001b[1;32m      9\u001b[0m \u001b[38;5;28;01mif\u001b[39;00m flip \u001b[38;5;241m==\u001b[39m \u001b[38;5;241m0\u001b[39m:\n\u001b[1;32m     10\u001b[0m     \u001b[38;5;28;01mreturn\u001b[39;00m \u001b[38;5;28;01mFalse\u001b[39;00m\n\u001b[0;32m---> 12\u001b[0m child_left \u001b[38;5;241m=\u001b[39m \u001b[43mimproved_can_aaron_win\u001b[49m\u001b[43m(\u001b[49m\u001b[43mcurrentDepth\u001b[49m\u001b[43m \u001b[49m\u001b[38;5;241;43m+\u001b[39;49m\u001b[43m \u001b[49m\u001b[38;5;241;43m1\u001b[39;49m\u001b[43m,\u001b[49m\u001b[43m \u001b[49m\u001b[43mmaxDepth\u001b[49m\u001b[43m,\u001b[49m\u001b[43m \u001b[49m\u001b[43mprobability\u001b[49m\u001b[43m)\u001b[49m\n\u001b[1;32m     13\u001b[0m child_right \u001b[38;5;241m=\u001b[39m improved_can_aaron_win(currentDepth \u001b[38;5;241m+\u001b[39m \u001b[38;5;241m1\u001b[39m, maxDepth, probability)\n\u001b[1;32m     15\u001b[0m \u001b[38;5;28;01mif\u001b[39;00m currentDepth \u001b[38;5;241m%\u001b[39m \u001b[38;5;241m2\u001b[39m \u001b[38;5;241m==\u001b[39m \u001b[38;5;241m0\u001b[39m:\n",
      "    \u001b[0;31m[... skipping similar frames: improved_can_aaron_win at line 13 (3 times)]\u001b[0m\n",
      "Cell \u001b[0;32mIn[6], line 12\u001b[0m, in \u001b[0;36mimproved_can_aaron_win\u001b[0;34m(currentDepth, maxDepth, probability)\u001b[0m\n\u001b[1;32m      9\u001b[0m \u001b[38;5;28;01mif\u001b[39;00m flip \u001b[38;5;241m==\u001b[39m \u001b[38;5;241m0\u001b[39m:\n\u001b[1;32m     10\u001b[0m     \u001b[38;5;28;01mreturn\u001b[39;00m \u001b[38;5;28;01mFalse\u001b[39;00m\n\u001b[0;32m---> 12\u001b[0m child_left \u001b[38;5;241m=\u001b[39m \u001b[43mimproved_can_aaron_win\u001b[49m\u001b[43m(\u001b[49m\u001b[43mcurrentDepth\u001b[49m\u001b[43m \u001b[49m\u001b[38;5;241;43m+\u001b[39;49m\u001b[43m \u001b[49m\u001b[38;5;241;43m1\u001b[39;49m\u001b[43m,\u001b[49m\u001b[43m \u001b[49m\u001b[43mmaxDepth\u001b[49m\u001b[43m,\u001b[49m\u001b[43m \u001b[49m\u001b[43mprobability\u001b[49m\u001b[43m)\u001b[49m\n\u001b[1;32m     13\u001b[0m child_right \u001b[38;5;241m=\u001b[39m improved_can_aaron_win(currentDepth \u001b[38;5;241m+\u001b[39m \u001b[38;5;241m1\u001b[39m, maxDepth, probability)\n\u001b[1;32m     15\u001b[0m \u001b[38;5;28;01mif\u001b[39;00m currentDepth \u001b[38;5;241m%\u001b[39m \u001b[38;5;241m2\u001b[39m \u001b[38;5;241m==\u001b[39m \u001b[38;5;241m0\u001b[39m:\n",
      "    \u001b[0;31m[... skipping similar frames: improved_can_aaron_win at line 12 (2 times), improved_can_aaron_win at line 13 (2 times)]\u001b[0m\n",
      "Cell \u001b[0;32mIn[6], line 12\u001b[0m, in \u001b[0;36mimproved_can_aaron_win\u001b[0;34m(currentDepth, maxDepth, probability)\u001b[0m\n\u001b[1;32m      9\u001b[0m \u001b[38;5;28;01mif\u001b[39;00m flip \u001b[38;5;241m==\u001b[39m \u001b[38;5;241m0\u001b[39m:\n\u001b[1;32m     10\u001b[0m     \u001b[38;5;28;01mreturn\u001b[39;00m \u001b[38;5;28;01mFalse\u001b[39;00m\n\u001b[0;32m---> 12\u001b[0m child_left \u001b[38;5;241m=\u001b[39m \u001b[43mimproved_can_aaron_win\u001b[49m\u001b[43m(\u001b[49m\u001b[43mcurrentDepth\u001b[49m\u001b[43m \u001b[49m\u001b[38;5;241;43m+\u001b[39;49m\u001b[43m \u001b[49m\u001b[38;5;241;43m1\u001b[39;49m\u001b[43m,\u001b[49m\u001b[43m \u001b[49m\u001b[43mmaxDepth\u001b[49m\u001b[43m,\u001b[49m\u001b[43m \u001b[49m\u001b[43mprobability\u001b[49m\u001b[43m)\u001b[49m\n\u001b[1;32m     13\u001b[0m child_right \u001b[38;5;241m=\u001b[39m improved_can_aaron_win(currentDepth \u001b[38;5;241m+\u001b[39m \u001b[38;5;241m1\u001b[39m, maxDepth, probability)\n\u001b[1;32m     15\u001b[0m \u001b[38;5;28;01mif\u001b[39;00m currentDepth \u001b[38;5;241m%\u001b[39m \u001b[38;5;241m2\u001b[39m \u001b[38;5;241m==\u001b[39m \u001b[38;5;241m0\u001b[39m:\n",
      "Cell \u001b[0;32mIn[6], line 13\u001b[0m, in \u001b[0;36mimproved_can_aaron_win\u001b[0;34m(currentDepth, maxDepth, probability)\u001b[0m\n\u001b[1;32m     10\u001b[0m     \u001b[38;5;28;01mreturn\u001b[39;00m \u001b[38;5;28;01mFalse\u001b[39;00m\n\u001b[1;32m     12\u001b[0m child_left \u001b[38;5;241m=\u001b[39m improved_can_aaron_win(currentDepth \u001b[38;5;241m+\u001b[39m \u001b[38;5;241m1\u001b[39m, maxDepth, probability)\n\u001b[0;32m---> 13\u001b[0m child_right \u001b[38;5;241m=\u001b[39m \u001b[43mimproved_can_aaron_win\u001b[49m\u001b[43m(\u001b[49m\u001b[43mcurrentDepth\u001b[49m\u001b[43m \u001b[49m\u001b[38;5;241;43m+\u001b[39;49m\u001b[43m \u001b[49m\u001b[38;5;241;43m1\u001b[39;49m\u001b[43m,\u001b[49m\u001b[43m \u001b[49m\u001b[43mmaxDepth\u001b[49m\u001b[43m,\u001b[49m\u001b[43m \u001b[49m\u001b[43mprobability\u001b[49m\u001b[43m)\u001b[49m\n\u001b[1;32m     15\u001b[0m \u001b[38;5;28;01mif\u001b[39;00m currentDepth \u001b[38;5;241m%\u001b[39m \u001b[38;5;241m2\u001b[39m \u001b[38;5;241m==\u001b[39m \u001b[38;5;241m0\u001b[39m:\n\u001b[1;32m     16\u001b[0m     \u001b[38;5;28;01mreturn\u001b[39;00m child_left \u001b[38;5;129;01mor\u001b[39;00m child_right\n",
      "Cell \u001b[0;32mIn[6], line 8\u001b[0m, in \u001b[0;36mimproved_can_aaron_win\u001b[0;34m(currentDepth, maxDepth, probability)\u001b[0m\n\u001b[1;32m      5\u001b[0m \u001b[38;5;28;01mif\u001b[39;00m currentDepth \u001b[38;5;241m==\u001b[39m \u001b[38;5;241m0\u001b[39m:\n\u001b[1;32m      6\u001b[0m     \u001b[38;5;28;01mreturn\u001b[39;00m improved_can_aaron_win(currentDepth \u001b[38;5;241m+\u001b[39m \u001b[38;5;241m1\u001b[39m, maxDepth, probability) \u001b[38;5;129;01mor\u001b[39;00m improved_can_aaron_win(currentDepth \u001b[38;5;241m+\u001b[39m \u001b[38;5;241m1\u001b[39m, maxDepth, probability)\n\u001b[0;32m----> 8\u001b[0m flip \u001b[38;5;241m=\u001b[39m \u001b[43mnp\u001b[49m\u001b[38;5;241;43m.\u001b[39;49m\u001b[43mrandom\u001b[49m\u001b[38;5;241;43m.\u001b[39;49m\u001b[43mbinomial\u001b[49m\u001b[43m(\u001b[49m\u001b[43mn\u001b[49m\u001b[38;5;241;43m=\u001b[39;49m\u001b[38;5;241;43m1\u001b[39;49m\u001b[43m,\u001b[49m\u001b[43m \u001b[49m\u001b[43mp\u001b[49m\u001b[38;5;241;43m=\u001b[39;49m\u001b[43mprobability\u001b[49m\u001b[43m)\u001b[49m\n\u001b[1;32m      9\u001b[0m \u001b[38;5;28;01mif\u001b[39;00m flip \u001b[38;5;241m==\u001b[39m \u001b[38;5;241m0\u001b[39m:\n\u001b[1;32m     10\u001b[0m     \u001b[38;5;28;01mreturn\u001b[39;00m \u001b[38;5;28;01mFalse\u001b[39;00m\n",
      "\u001b[0;31mKeyboardInterrupt\u001b[0m: "
     ]
    }
   ],
   "source": [
    "samples = 100\n",
    "height = 20\n",
    "start = 0.5\n",
    "end = 0.98\n",
    "marks = 50\n",
    "probabilities = [(1 - i/marks) * start + (i/marks) * end for i in range(0, marks)]\n",
    "expected_time = samples * (2 ** height) * len(probabilities) / 3209920\n",
    "print(f\"Expected time it will take to complete {expected_time:.2f}s\")\n",
    "sample_aaron_successes = [sample(probability, height, samples) for probability in tqdm(probabilities)]"
   ]
  },
  {
   "cell_type": "code",
   "execution_count": null,
   "metadata": {},
   "outputs": [
    {
     "data": {
      "image/png": "[encoded data removed]",
      "text/plain": [
       "<Figure size 640x480 with 1 Axes>"
      ]
     },
     "metadata": {},
     "output_type": "display_data"
    }
   ],
   "source": [
    "plt.plot(probabilities, sample_aaron_successes, marker=\"x\", linestyle='--')\n",
    "plt.show()\n"
   ]
  }
 ],
 "metadata": {
  "kernelspec": {
   "display_name": "Python 3",
   "language": "python",
   "name": "python3"
  },
  "language_info": {
   "codemirror_mode": {
    "name": "ipython",
    "version": 3
   },
   "file_extension": ".py",
   "mimetype": "text/x-python",
   "name": "python",
   "nbconvert_exporter": "python",
   "pygments_lexer": "ipython3",
   "version": "3.12.3"
  }
 },
 "nbformat": 4,
 "nbformat_minor": 2
}
