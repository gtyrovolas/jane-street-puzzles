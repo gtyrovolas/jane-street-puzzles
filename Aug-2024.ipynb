{
 "cells": [
  {
   "cell_type": "code",
   "execution_count": 18,
   "metadata": {},
   "outputs": [],
   "source": [
    "import numpy as np\n",
    "import math\n",
    "import random\n",
    "import matplotlib.pyplot as plt"
   ]
  },
  {
   "cell_type": "code",
   "execution_count": 19,
   "metadata": {},
   "outputs": [],
   "source": [
    "class Node:\n",
    "    value = None\n",
    "    left, right = None, None\n",
    "\n",
    "    def __init__(self, value, left, right):\n",
    "        self.value = value\n",
    "        self.left = left\n",
    "        self.right = right\n",
    "    \n",
    "    def __str__(self):\n",
    "        string = f\"{self.value}\"\n",
    "        if self.left is not None and self.right is not None:\n",
    "            string += f\" -> ({self.left.__str__()}, {self.right.__str__()})\"\n",
    "        return string"
   ]
  },
  {
   "cell_type": "code",
   "execution_count": 20,
   "metadata": {},
   "outputs": [],
   "source": [
    "def _build_tree(probability, height):\n",
    "    left, right = None, None\n",
    "    if height > 0:\n",
    "        left = _build_tree(probability, height - 1)\n",
    "        right = _build_tree(probability, height - 1)\n",
    "    \n",
    "    value = np.random.binomial(n=1, p=probability)\n",
    "\n",
    "    return Node(value, left, right)"
   ]
  },
  {
   "cell_type": "code",
   "execution_count": 21,
   "metadata": {},
   "outputs": [],
   "source": [
    "def build_tree(probability, height):\n",
    "    tree = _build_tree(probability, height)\n",
    "    tree.value = 1\n",
    "    return tree"
   ]
  },
  {
   "cell_type": "code",
   "execution_count": 22,
   "metadata": {},
   "outputs": [],
   "source": [
    "def can_aaron_win(tree, isEvenDepth):\n",
    "    if tree is None:\n",
    "        return True\n",
    "    \n",
    "    if tree.value == 0:\n",
    "        return False\n",
    "    \n",
    "    canWinLeft = can_aaron_win(tree.left, not isEvenDepth)\n",
    "    canWinRight = can_aaron_win(tree.right, not isEvenDepth)\n",
    "\n",
    "    if isEvenDepth:\n",
    "        return canWinLeft or canWinRight\n",
    "    else:\n",
    "        return canWinLeft and canWinRight"
   ]
  },
  {
   "cell_type": "code",
   "execution_count": 23,
   "metadata": {},
   "outputs": [],
   "source": [
    "def improved_can_aaron_win(currentDepth, maxDepth, probability):\n",
    "    if currentDepth > maxDepth:\n",
    "        return True\n",
    "    \n",
    "    if currentDepth == 0:\n",
    "        return improved_can_aaron_win(currentDepth + 1, maxDepth, probability) or improved_can_aaron_win(currentDepth + 1, maxDepth, probability)\n",
    "    \n",
    "    flip = np.random.binomial(n=1, p=probability)\n",
    "    if flip == 0:\n",
    "        return False\n",
    "    \n",
    "    child_left = improved_can_aaron_win(currentDepth + 1, maxDepth, probability)\n",
    "    child_right = improved_can_aaron_win(currentDepth + 1, maxDepth, probability)\n",
    "\n",
    "    if currentDepth % 2 == 0:\n",
    "        return child_left or child_right\n",
    "    else:\n",
    "        return child_left and child_right"
   ]
  },
  {
   "cell_type": "code",
   "execution_count": 24,
   "metadata": {},
   "outputs": [],
   "source": [
    "def build_and_evaluate_instance(probability, height):\n",
    "    tree = build_tree(probability, height)\n",
    "    return can_aaron_win(tree, isEvenDepth=True)"
   ]
  },
  {
   "cell_type": "code",
   "execution_count": 25,
   "metadata": {},
   "outputs": [],
   "source": [
    "def sample(probability, height, samples):\n",
    "    samples = [improved_can_aaron_win(0, height, probability) for _ in range(samples)]\n",
    "    probability_aaron_wins = np.average(samples)\n",
    "    return probability_aaron_wins"
   ]
  },
  {
   "cell_type": "code",
   "execution_count": 43,
   "metadata": {},
   "outputs": [
    {
     "name": "stdout",
     "output_type": "stream",
     "text": [
      "Expected time it will take to complete 245.00s\n"
     ]
    }
   ],
   "source": [
    "samples = 1000\n",
    "height = 18\n",
    "start = 0.9\n",
    "end = 0.95\n",
    "marks = 50\n",
    "probabilities = [(1 - i/marks) * start + (i/marks) * end for i in range(0, marks + 1)]\n",
    "expected_time = samples * (2 ** height) * len(probabilities) / 3209920\n",
    "print(f\"Expected time it will take to complete {expected_time:.2f}s\")\n",
    "sample_aaron_successes = [sample(probability, height, samples) for probability in probabilities]"
   ]
  },
  {
   "cell_type": "code",
   "execution_count": 44,
   "metadata": {},
   "outputs": [
    {
     "data": {
      "image/png": "[encoded data removed]",
      "text/plain": [
       "<Figure size 640x480 with 1 Axes>"
      ]
     },
     "metadata": {},
     "output_type": "display_data"
    }
   ],
   "source": [
    "plt.plot(probabilities, sample_aaron_successes, marker=\"x\", linestyle='--')\n",
    "\n",
    "plt.show()"
   ]
  }
 ],
 "metadata": {
  "kernelspec": {
   "display_name": "Python 3",
   "language": "python",
   "name": "python3"
  },
  "language_info": {
   "codemirror_mode": {
    "name": "ipython",
    "version": 3
   },
   "file_extension": ".py",
   "mimetype": "text/x-python",
   "name": "python",
   "nbconvert_exporter": "python",
   "pygments_lexer": "ipython3",
   "version": "3.12.3"
  }
 },
 "nbformat": 4,
 "nbformat_minor": 2
}
